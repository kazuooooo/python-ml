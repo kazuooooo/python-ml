{
 "cells": [
  {
   "cell_type": "markdown",
   "metadata": {},
   "source": [
    "# 基礎"
   ]
  },
  {
   "cell_type": "code",
   "execution_count": null,
   "metadata": {},
   "outputs": [],
   "source": []
  },
  {
   "cell_type": "markdown",
   "metadata": {},
   "source": [
    "マークダウンセルで`$数式$`の文法で使用する"
   ]
  },
  {
   "cell_type": "raw",
   "metadata": {},
   "source": [
    "$$y=2x+1$$"
   ]
  },
  {
   "cell_type": "markdown",
   "metadata": {},
   "source": [
    "$$y=2x+1$$"
   ]
  },
  {
   "cell_type": "markdown",
   "metadata": {},
   "source": [
    "# 添字"
   ]
  },
  {
   "cell_type": "markdown",
   "metadata": {},
   "source": [
    "_を使って表記できる。複数ある場合は{}で囲む"
   ]
  },
  {
   "cell_type": "raw",
   "metadata": {},
   "source": [
    "$a_1$"
   ]
  },
  {
   "cell_type": "markdown",
   "metadata": {},
   "source": [
    "$a_1$"
   ]
  },
  {
   "cell_type": "raw",
   "metadata": {},
   "source": [
    "$a_{ij}$"
   ]
  },
  {
   "cell_type": "markdown",
   "metadata": {},
   "source": [
    "$a_{ij}$"
   ]
  },
  {
   "cell_type": "markdown",
   "metadata": {},
   "source": [
    "# 累乗"
   ]
  },
  {
   "cell_type": "markdown",
   "metadata": {},
   "source": [
    "^を使う"
   ]
  },
  {
   "cell_type": "raw",
   "metadata": {},
   "source": [
    "$a^2$"
   ]
  },
  {
   "cell_type": "markdown",
   "metadata": {},
   "source": [
    "$a^2$"
   ]
  },
  {
   "cell_type": "raw",
   "metadata": {},
   "source": [
    "$b^{ij}$"
   ]
  },
  {
   "cell_type": "markdown",
   "metadata": {},
   "source": [
    "$b^{ij}$"
   ]
  },
  {
   "cell_type": "markdown",
   "metadata": {},
   "source": [
    "# 平方根"
   ]
  },
  {
   "cell_type": "raw",
   "metadata": {},
   "source": [
    "y=\\sqrt x"
   ]
  },
  {
   "cell_type": "markdown",
   "metadata": {},
   "source": [
    "$y=\\sqrt x$"
   ]
  },
  {
   "cell_type": "markdown",
   "metadata": {},
   "source": [
    "# 三角関数"
   ]
  },
  {
   "cell_type": "raw",
   "metadata": {},
   "source": [
    "$y=\\sin x$"
   ]
  },
  {
   "cell_type": "markdown",
   "metadata": {},
   "source": [
    "$y=\\sin x$"
   ]
  },
  {
   "cell_type": "markdown",
   "metadata": {},
   "source": [
    "# 分数"
   ]
  },
  {
   "cell_type": "raw",
   "metadata": {},
   "source": [
    "$y=\\frac{分子}{分母}$"
   ]
  },
  {
   "cell_type": "markdown",
   "metadata": {},
   "source": [
    "$y=\\frac{分子}{分母}$"
   ]
  },
  {
   "cell_type": "markdown",
   "metadata": {},
   "source": [
    "# 総和"
   ]
  },
  {
   "cell_type": "raw",
   "metadata": {},
   "source": [
    "$y=\\sum_{k=1}^n a_k$"
   ]
  },
  {
   "cell_type": "markdown",
   "metadata": {},
   "source": [
    "$y=\\sum_{k=1}^n a_k$"
   ]
  },
  {
   "cell_type": "markdown",
   "metadata": {},
   "source": [
    "# 総乗"
   ]
  },
  {
   "cell_type": "raw",
   "metadata": {},
   "source": [
    "$y=\\prod_{k=1}^n a_k$"
   ]
  },
  {
   "cell_type": "markdown",
   "metadata": {},
   "source": [
    "$y=\\prod_{k=1}^n a_k$"
   ]
  },
  {
   "cell_type": "code",
   "execution_count": null,
   "metadata": {},
   "outputs": [],
   "source": []
  }
 ],
 "metadata": {
  "kernelspec": {
   "display_name": "Python 3",
   "language": "python",
   "name": "python3"
  },
  "language_info": {
   "codemirror_mode": {
    "name": "ipython",
    "version": 3
   },
   "file_extension": ".py",
   "mimetype": "text/x-python",
   "name": "python",
   "nbconvert_exporter": "python",
   "pygments_lexer": "ipython3",
   "version": "3.7.5"
  }
 },
 "nbformat": 4,
 "nbformat_minor": 4
}
