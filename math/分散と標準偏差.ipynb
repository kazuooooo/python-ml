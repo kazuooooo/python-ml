{
 "cells": [
  {
   "cell_type": "markdown",
   "metadata": {},
   "source": [
    "# 分散と標準偏差"
   ]
  },
  {
   "cell_type": "markdown",
   "metadata": {},
   "source": [
    "## 分散"
   ]
  },
  {
   "cell_type": "markdown",
   "metadata": {},
   "source": [
    "分散はデータのばらつき具合を表す指標で\n",
    "**平均値との差分の2乗の平均値から得られる値。**\n",
    "\n",
    "以下の式で表される(xは値, μは平均値を表す。)"
   ]
  },
  {
   "cell_type": "markdown",
   "metadata": {},
   "source": [
    "$\\sum_{n=1}^k(x_k-μ)^2$"
   ]
  },
  {
   "cell_type": "markdown",
   "metadata": {},
   "source": [
    "### 例"
   ]
  },
  {
   "cell_type": "markdown",
   "metadata": {},
   "source": [
    "55kg, 45kg, 60kg, 40kgの4人の体重をの分散を求める\n",
    "\n",
    "愚直にやると以下"
   ]
  },
  {
   "cell_type": "code",
   "execution_count": 26,
   "metadata": {},
   "outputs": [
    {
     "name": "stdout",
     "output_type": "stream",
     "text": [
      "disparison: 62.5\n"
     ]
    }
   ],
   "source": [
    "import numpy as np\n",
    "data = np.array([55, 45, 60, 40])\n",
    "average = np.average(data)\n",
    "disparison = np.sum((data - average)**2)/data.size\n",
    "print(\"disparison: {}\".format(disparison))"
   ]
  },
  {
   "cell_type": "markdown",
   "metadata": {},
   "source": [
    "numpyの関数使うとこう"
   ]
  },
  {
   "cell_type": "code",
   "execution_count": 27,
   "metadata": {},
   "outputs": [
    {
     "data": {
      "text/plain": [
       "62.5"
      ]
     },
     "execution_count": 27,
     "metadata": {},
     "output_type": "execute_result"
    }
   ],
   "source": [
    "np.var(data)"
   ]
  },
  {
   "cell_type": "markdown",
   "metadata": {},
   "source": [
    "## 標準偏差"
   ]
  },
  {
   "cell_type": "markdown",
   "metadata": {},
   "source": [
    "単純に分散の平方根をとったもの\n",
    "\n",
    "$σ=\\sqrt \\sum_{n=1}^k(x_k-μ)^2 $"
   ]
  },
  {
   "cell_type": "markdown",
   "metadata": {},
   "source": [
    "### 例"
   ]
  },
  {
   "cell_type": "markdown",
   "metadata": {},
   "source": [
    "上記の分散の平方根をとって標準偏差を出す"
   ]
  },
  {
   "cell_type": "code",
   "execution_count": 28,
   "metadata": {},
   "outputs": [
    {
     "name": "stdout",
     "output_type": "stream",
     "text": [
      "std: 7.905694150420948\n"
     ]
    }
   ],
   "source": [
    "std = np.sqrt(disparison)\n",
    "print(\"std: {}\".format(std))"
   ]
  },
  {
   "cell_type": "markdown",
   "metadata": {},
   "source": [
    "numpyの関数を使うとこう"
   ]
  },
  {
   "cell_type": "code",
   "execution_count": 29,
   "metadata": {},
   "outputs": [
    {
     "data": {
      "text/plain": [
       "7.905694150420948"
      ]
     },
     "execution_count": 29,
     "metadata": {},
     "output_type": "execute_result"
    }
   ],
   "source": [
    "np.std(data)"
   ]
  },
  {
   "cell_type": "markdown",
   "metadata": {},
   "source": [
    "## 標準偏差と分散の関係性"
   ]
  },
  {
   "cell_type": "markdown",
   "metadata": {},
   "source": [
    "上記の通り\n",
    "\n",
    "$分散=(\\sqrt標準偏差)^2$\n",
    "\n",
    "が成り立つ。\n",
    "\n",
    "分散の単位が($kg^2$)なのに対して、標準偏差の単位が($kg$)なので、ばらつき具合を表すのには理解しやすい。\n",
    "\n",
    "(逆にゆうとその理解しやすさを得るために、ルートをとっているとも言える)"
   ]
  }
 ],
 "metadata": {
  "kernelspec": {
   "display_name": "Python 3",
   "language": "python",
   "name": "python3"
  },
  "language_info": {
   "codemirror_mode": {
    "name": "ipython",
    "version": 3
   },
   "file_extension": ".py",
   "mimetype": "text/x-python",
   "name": "python",
   "nbconvert_exporter": "python",
   "pygments_lexer": "ipython3",
   "version": "3.7.5"
  }
 },
 "nbformat": 4,
 "nbformat_minor": 4
}
