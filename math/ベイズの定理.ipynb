{
 "cells": [
  {
   "cell_type": "markdown",
   "metadata": {},
   "source": [
    "# 条件付き確率とベイズの定理"
   ]
  },
  {
   "cell_type": "markdown",
   "metadata": {},
   "source": [
    "## 条件付き確立"
   ]
  },
  {
   "cell_type": "markdown",
   "metadata": {},
   "source": [
    "あるできごとAが起きる確立を"
   ]
  },
  {
   "cell_type": "markdown",
   "metadata": {},
   "source": [
    "$P(A)$"
   ]
  },
  {
   "cell_type": "markdown",
   "metadata": {},
   "source": [
    "とするとき別の出来事Bが起きたという条件のもとでAが起きる確率を以下のように表す。"
   ]
  },
  {
   "cell_type": "markdown",
   "metadata": {},
   "source": [
    "$P(A|B) = \\frac{P(AかつB)}{P(B)}$ (1)"
   ]
  },
  {
   "cell_type": "markdown",
   "metadata": {},
   "source": [
    "このようなある条件のもとで起きる確率のことを条件付き確率と呼ぶ。"
   ]
  },
  {
   "cell_type": "markdown",
   "metadata": {},
   "source": [
    "またP(A)のように条件のつく前の確率を**事前確立**\n",
    "\n",
    "P(A|B)のように条件のついた後の確率を**事後確立**\n",
    "\n",
    "と呼ぶ"
   ]
  },
  {
   "cell_type": "markdown",
   "metadata": {},
   "source": [
    "## ベイズの定理"
   ]
  },
  {
   "cell_type": "markdown",
   "metadata": {},
   "source": [
    "ベイズの定理は以下の公式で表される。"
   ]
  },
  {
   "cell_type": "markdown",
   "metadata": {},
   "source": [
    "$P(B|A)=\\frac{P(A|B)P(B)}{P(A)}$"
   ]
  },
  {
   "cell_type": "markdown",
   "metadata": {},
   "source": [
    "日本語で説明すると"
   ]
  },
  {
   "cell_type": "markdown",
   "metadata": {},
   "source": [
    "$AのもとでBが起きる確立=\\frac{BのもとでAが起きる確立 × Bの起きる確立}{Aの起きる確立}$"
   ]
  },
  {
   "cell_type": "markdown",
   "metadata": {},
   "source": [
    "ポイントは条件付き確立が逆転している点で、これを使うことでP(B|A)が求めにくい場合に、P(A|B)、P(A)、P(B)から求めることができる。"
   ]
  },
  {
   "cell_type": "markdown",
   "metadata": {},
   "source": [
    "導出としては(1)式をA、B逆にして"
   ]
  },
  {
   "cell_type": "markdown",
   "metadata": {},
   "source": [
    "$P(B|A) = \\frac{P(BかつA)}{P(A)}$ (2)"
   ]
  },
  {
   "cell_type": "markdown",
   "metadata": {},
   "source": [
    "(1)両辺にP(B)をかけて"
   ]
  },
  {
   "cell_type": "markdown",
   "metadata": {},
   "source": [
    "$P(A|B)P(B) = P(AかつB) = P(BかつA)$ (3)"
   ]
  },
  {
   "cell_type": "markdown",
   "metadata": {},
   "source": [
    "(2)と(3)を合わせて"
   ]
  },
  {
   "cell_type": "markdown",
   "metadata": {},
   "source": [
    "$P(B|A) = \\frac{P(A)}{P(A|B)P(B)}$"
   ]
  },
  {
   "cell_type": "markdown",
   "metadata": {},
   "source": [
    "## ベイズの定理の例"
   ]
  },
  {
   "cell_type": "raw",
   "metadata": {},
   "source": [
    "イメージが湧かないので、実際の例\n",
    "日本人の0.01%が罹患する、ある病気を考える。\n",
    "\n",
    "この病気には検査があり実際に病気に罹患している人が陽性と判断される確立が98%であるとする。\n",
    "また罹患していない人が陰性と判断される確立が90%とする。\n",
    "\n",
    "この時陽性と判定された場合、実際に罹患している確率は何%か?"
   ]
  },
  {
   "cell_type": "markdown",
   "metadata": {},
   "source": [
    "ここには2つの確立がある。\n",
    "\n",
    "**P(A) = 検査で陽性である**\n",
    "\n",
    "**P(B) = 実際に罹患している**\n",
    "\n",
    "で問題文から既にわかっている値が\n",
    "\n",
    "$P(B) = 0.0001$\n",
    "\n",
    "また\n",
    "\n",
    "$P(!B) = 0.9999$\n",
    "> 日本人の0.01%が罹患する、ある病気を考える。\n",
    "\n",
    "$P(A | B) = 0.98$\n",
    "> この病気には検査があり実際に病気に罹患している人が陽性と判断される確立が98%であるとする。\n",
    "\n",
    "$P(!A | !B) = 0.90$\n",
    "> また罹患していない人が陰性と判断される確立が90%とする。\n",
    "\n",
    "から\n",
    "\n",
    "$P(A | !B) = 1 - P(!A | !B) = 1 - 0.9 = 0.1$\n",
    "\n",
    "P(A)はP(A|B)とP(A|!B)の和で求めることができるので、\n",
    "(※ 事後確立を事前確立に戻すには事前条件の確立をかける必要がある)\n",
    "\n",
    "$P(A) = P(B) * P(A|B) + P(!B) * P(A|!B)\n",
    "      = 0.0001 * 0.98 + 0.9999*0.1 = 0.100088$\n"
   ]
  },
  {
   "cell_type": "markdown",
   "metadata": {},
   "source": [
    "ベイズの公式より\n",
    "$P(B|A) = \\frac{P(A|B)P(B)}{P(A)}$\n",
    "\n",
    "$P(B|A) = \\frac{0.98 * 0.0001}{0.100088} = 0.00097914$"
   ]
  },
  {
   "cell_type": "markdown",
   "metadata": {},
   "source": []
  }
 ],
 "metadata": {
  "kernelspec": {
   "display_name": "Python 3",
   "language": "python",
   "name": "python3"
  },
  "language_info": {
   "codemirror_mode": {
    "name": "ipython",
    "version": 3
   },
   "file_extension": ".py",
   "mimetype": "text/x-python",
   "name": "python",
   "nbconvert_exporter": "python",
   "pygments_lexer": "ipython3",
   "version": "3.7.5"
  }
 },
 "nbformat": 4,
 "nbformat_minor": 4
}
